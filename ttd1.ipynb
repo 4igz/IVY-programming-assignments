{
 "cells": [
  {
   "cell_type": "code",
   "execution_count": 27,
   "id": "31b61e4d",
   "metadata": {},
   "outputs": [
    {
     "data": {
      "text/plain": [
       "\"there's 3600 seconds in an hour.\""
      ]
     },
     "execution_count": 27,
     "metadata": {},
     "output_type": "execute_result"
    }
   ],
   "source": [
    "# 3.1\n",
    "\"there's \" + str(60 * 60) + \" seconds in an hour.\""
   ]
  },
  {
   "cell_type": "code",
   "execution_count": 28,
   "id": "d2331cc0",
   "metadata": {},
   "outputs": [
    {
     "data": {
      "text/plain": [
       "\"there's 3600 seconds in an hour.\""
      ]
     },
     "execution_count": 28,
     "metadata": {},
     "output_type": "execute_result"
    }
   ],
   "source": [
    "# 3.2\n",
    "seconds_per_hour = 60 * 60\n",
    "\"there's \" + str(seconds_per_hour) + \" seconds in an hour.\""
   ]
  },
  {
   "cell_type": "code",
   "execution_count": 29,
   "id": "bdfd6346",
   "metadata": {},
   "outputs": [
    {
     "data": {
      "text/plain": [
       "86400"
      ]
     },
     "execution_count": 29,
     "metadata": {},
     "output_type": "execute_result"
    }
   ],
   "source": [
    "# 3.3\n",
    "seconds_per_hour = 60 * 60\n",
    "seconds_per_hour * 24 # seconds_per_day"
   ]
  },
  {
   "cell_type": "code",
   "execution_count": 30,
   "id": "d2570a28",
   "metadata": {},
   "outputs": [
    {
     "data": {
      "text/plain": [
       "86400"
      ]
     },
     "execution_count": 30,
     "metadata": {},
     "output_type": "execute_result"
    }
   ],
   "source": [
    "# 3.4\n",
    "seconds_per_hour = 60 * 60\n",
    "seconds_per_day = seconds_per_hour * 24\n",
    "seconds_per_day"
   ]
  },
  {
   "cell_type": "code",
   "execution_count": 31,
   "id": "7a2dba51",
   "metadata": {},
   "outputs": [
    {
     "data": {
      "text/plain": [
       "24.0"
      ]
     },
     "execution_count": 31,
     "metadata": {},
     "output_type": "execute_result"
    }
   ],
   "source": [
    "# 3.5\n",
    "seconds_per_hour = 60 * 60\n",
    "seconds_per_day = seconds_per_hour * 24\n",
    "seconds_per_day / seconds_per_hour # float"
   ]
  },
  {
   "cell_type": "code",
   "execution_count": 32,
   "id": "8c29a612",
   "metadata": {},
   "outputs": [
    {
     "data": {
      "text/plain": [
       "24"
      ]
     },
     "execution_count": 32,
     "metadata": {},
     "output_type": "execute_result"
    }
   ],
   "source": [
    "# 3.6\n",
    "seconds_per_hour = 60 * 60\n",
    "seconds_per_day = seconds_per_hour * 24\n",
    "seconds_per_day // seconds_per_hour # output is an integer this time"
   ]
  }
 ],
 "metadata": {
  "kernelspec": {
   "display_name": "Python 3 (ipykernel)",
   "language": "python",
   "name": "python3"
  },
  "language_info": {
   "codemirror_mode": {
    "name": "ipython",
    "version": 3
   },
   "file_extension": ".py",
   "mimetype": "text/x-python",
   "name": "python",
   "nbconvert_exporter": "python",
   "pygments_lexer": "ipython3",
   "version": "3.11.5"
  }
 },
 "nbformat": 4,
 "nbformat_minor": 5
}
