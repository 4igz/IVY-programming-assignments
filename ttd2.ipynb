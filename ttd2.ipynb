{
 "cells": [
  {
   "cell_type": "code",
   "execution_count": 3,
   "metadata": {},
   "outputs": [
    {
     "name": "stdout",
     "output_type": "stream",
     "text": [
      "Too low.\n"
     ]
    }
   ],
   "source": [
    "secret = 7\n",
    "guess = 2\n",
    "\n",
    "if guess == secret:\n",
    "    print(\"Just right.\")\n",
    "elif guess <= secret:\n",
    "    print(\"Too low.\")\n",
    "elif guess >= secret:\n",
    "    print(\"Too high.\")"
   ]
  },
  {
   "cell_type": "code",
   "execution_count": 4,
   "metadata": {},
   "outputs": [
    {
     "name": "stdout",
     "output_type": "stream",
     "text": [
      "Squishable\n"
     ]
    }
   ],
   "source": [
    "small = True\n",
    "green = False\n",
    "\n",
    "if small:\n",
    "    if green:\n",
    "        print(\"Eww\")\n",
    "    else:\n",
    "        print(\"Squishable\")\n",
    "else:\n",
    "    if green:\n",
    "        print(\"Run for your life\")\n",
    "    else:\n",
    "        print(\"Could be anything\")"
   ]
  },
  {
   "cell_type": "code",
   "execution_count": 6,
   "metadata": {},
   "outputs": [
    {
     "name": "stdout",
     "output_type": "stream",
     "text": [
      "3\n",
      "2\n",
      "1\n",
      "0\n"
     ]
    }
   ],
   "source": [
    "l = [3,2,1,0]\n",
    "for v in l:\n",
    "    print(v)"
   ]
  },
  {
   "cell_type": "code",
   "execution_count": 11,
   "metadata": {},
   "outputs": [
    {
     "name": "stdout",
     "output_type": "stream",
     "text": [
      "1\n",
      "Too low.\n",
      "2\n",
      "Too low.\n",
      "3\n",
      "Too low.\n",
      "4\n",
      "Too low.\n",
      "5\n",
      "Too low.\n",
      "6\n",
      "Too low.\n",
      "7\n",
      "Just right.\n"
     ]
    }
   ],
   "source": [
    "guess_me = 7\n",
    "number = 1\n",
    "\n",
    "while True:\n",
    "    if number < guess_me:\n",
    "        print(\"Too low.\")\n",
    "    elif number == guess_me:\n",
    "        print(\"Just right.\")\n",
    "        break\n",
    "    if number > guess_me:\n",
    "        print(\"Oops!\")\n",
    "        break\n",
    "    number += 1"
   ]
  },
  {
   "cell_type": "code",
   "execution_count": 12,
   "metadata": {},
   "outputs": [
    {
     "name": "stdout",
     "output_type": "stream",
     "text": [
      "Too low.\n",
      "Too low.\n",
      "Too low.\n",
      "Too low.\n",
      "Too low.\n",
      "Just right.\n"
     ]
    }
   ],
   "source": [
    "guess_me = 5\n",
    "\n",
    "for i in range(10):\n",
    "    if i < guess_me:\n",
    "        print(\"Too low.\")\n",
    "    elif i == guess_me:\n",
    "        print(\"Just right.\")\n",
    "        break\n",
    "    if i > guess_me:\n",
    "        print(\"Oops!\")\n",
    "        break"
   ]
  }
 ],
 "metadata": {
  "kernelspec": {
   "display_name": "base",
   "language": "python",
   "name": "python3"
  },
  "language_info": {
   "codemirror_mode": {
    "name": "ipython",
    "version": 3
   },
   "file_extension": ".py",
   "mimetype": "text/x-python",
   "name": "python",
   "nbconvert_exporter": "python",
   "pygments_lexer": "ipython3",
   "version": "3.11.5"
  }
 },
 "nbformat": 4,
 "nbformat_minor": 2
}
